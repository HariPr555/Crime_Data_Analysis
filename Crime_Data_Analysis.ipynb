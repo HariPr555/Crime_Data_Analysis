{
 "cells": [
  {
   "cell_type": "markdown",
   "id": "e69dbde2",
   "metadata": {},
   "source": [
    "# Crime Data Analysis\n",
    "\n",
    "Crime statistics are crucial in helping law enforcement and public safety agencies better understand crime patterns and develop preventive measures. This project aims to analyze crime data to uncover trends, identify hotspots, and provide actionable insights that can aid in reducing crime rates."
   ]
  },
  {
   "cell_type": "code",
   "execution_count": null,
   "id": "69328f93",
   "metadata": {},
   "outputs": [],
   "source": [
    "# Install Folium package to visualize maps\n",
    "pip install folium"
   ]
  },
  {
   "cell_type": "code",
   "execution_count": null,
   "id": "68c91d0f",
   "metadata": {},
   "outputs": [],
   "source": [
    "# Import Pandas and Pymysql modules\n",
    "import pandas as pd\n",
    "import pymysql\n",
    "import matplotlib.pyplot as plt\n",
    "import seaborn as sns\n",
    "import folium"
   ]
  },
  {
   "cell_type": "code",
   "execution_count": null,
   "id": "5fedc98a",
   "metadata": {},
   "outputs": [],
   "source": [
    "# Load the crime_data.csv to Pandas DataFrame\n",
    "df = pd.read_csv(r\"C:\\Users\\Hari\\OneDrive - Wiley\\Desktop\\MyDesktop_14102024\\Desktop\\Data Science Bootcamp\\Mini_Capstone_Project\\Dataset\\crime_data.csv\")\n"
   ]
  },
  {
   "cell_type": "code",
   "execution_count": null,
   "id": "2955bf8d",
   "metadata": {},
   "outputs": [],
   "source": [
    "# Replace the NaN values with None\n",
    "df = df.where(df.notnull(), None)"
   ]
  },
  {
   "cell_type": "code",
   "execution_count": null,
   "id": "70d061ab",
   "metadata": {},
   "outputs": [],
   "source": [
    "# Establish a database connection\n",
    "connection = pymysql.connect(host='localhost',\n",
    "                             user='root',\n",
    "                             password='Virat200599#',\n",
    "                             database='crime_data_db')"
   ]
  },
  {
   "cell_type": "code",
   "execution_count": null,
   "id": "f7b3da73",
   "metadata": {},
   "outputs": [],
   "source": [
    "# Create a cursor object\n",
    "cursor = connection.cursor()"
   ]
  },
  {
   "cell_type": "markdown",
   "id": "710342fa",
   "metadata": {},
   "source": [
    "# Create a crime data table"
   ]
  },
  {
   "cell_type": "code",
   "execution_count": null,
   "id": "9dae6902",
   "metadata": {},
   "outputs": [],
   "source": [
    "# Create crime_data Table in crime_data_db database\n",
    "query = '''create table crime_data(\n",
    "          dr_no int,\n",
    "          date_reported DATE,\n",
    "          date_occurred DATE,\n",
    "          area_name varchar(100),\n",
    "          crime_code int,\n",
    "          crime_code_description varchar(255),\n",
    "          victim_age int,\n",
    "          victim_sex varchar(10),\n",
    "          premise_description varchar(255),\n",
    "          status varchar(100),\n",
    "          location varchar(100),\n",
    "          lat double,\n",
    "          lon double);'''\n",
    "\n",
    "cursor.execute(query)\n",
    "\n",
    "# Insert values to the crime_data table using pymysql\n",
    "for index, row in df.iterrows():\n",
    "    query = r'''insert into crime_data(dr_no, date_reported, date_occurred, area_name, crime_code, crime_code_description,\n",
    "    victim_age, victim_sex, premise_description, status, location, lat, lon)\n",
    "    values(%s,str_to_date(%s, '%%d-%%m-%%Y'),str_to_date(%s, '%%d-%%m-%%Y'),%s,%s,%s,%s,%s,%s,%s,%s,%s,%s);'''\n",
    "    cursor.execute(query, tuple(row))\n",
    "\n",
    "# Save changes in Database\n",
    "connection.commit()"
   ]
  },
  {
   "cell_type": "markdown",
   "id": "b892f023",
   "metadata": {},
   "source": [
    "# Crime Data Exploratory Analysis"
   ]
  },
  {
   "cell_type": "code",
   "execution_count": null,
   "id": "34d50869",
   "metadata": {},
   "outputs": [],
   "source": [
    "# Query to fetch total record count\n",
    "cursor.execute('select count(*) from crime_data;')\n",
    "total_records = cursor.fetchone()[0]\n",
    "\n",
    "# Query to fetch unique crime_code records\n",
    "cursor.execute('select count(distinct crime_code) from crime_data;')\n",
    "unique_crime_codes_count = cursor.fetchone()[0]\n",
    "\n",
    "# Print the total_records and unique_crime_codes_count\n",
    "print(f'Total records: {total_records}')\n",
    "print(f'Unique Crime codes: {unique_crime_codes_count}')"
   ]
  },
  {
   "cell_type": "code",
   "execution_count": null,
   "id": "ab46d88c",
   "metadata": {},
   "outputs": [],
   "source": [
    "# Query to fetch unique crime_code and their descriptions\n",
    "cursor.execute('select distinct crime_code, crime_code_description from crime_data order by crime_code;')\n",
    "unique_crime_codes_descriptions = cursor.fetchall()\n",
    "\n",
    "# Print the unique crime_codes and their descriptions\n",
    "print('Unique crime codes and their descriptions')\n",
    "for crime_code, description in unique_crime_codes_descriptions:\n",
    "    print(crime_code, description)"
   ]
  },
  {
   "cell_type": "markdown",
   "id": "c5b4d116",
   "metadata": {},
   "source": [
    "# Temporal Analysis"
   ]
  },
  {
   "cell_type": "code",
   "execution_count": null,
   "id": "19412918",
   "metadata": {},
   "outputs": [],
   "source": [
    "# Convert the string data to date with specified format\n",
    "df['DATE_OCC'] = pd.to_datetime(df['DATE_OCC'], format='%d-%m-%Y')\n",
    "\n",
    "# Group the data on Month of the Crime_occurred_date to analyze trends over time\n",
    "res = df.groupby(df['DATE_OCC'].dt.to_period('M')).size()\n",
    "\n",
    "# Plot Line graph to analyze the trend over time\n",
    "res.plot(kind='line', marker='o', label='Monthly values')\n",
    "plt.title('Crime Trends Over Time')\n",
    "plt.xlabel('Period in Month')\n",
    "plt.ylabel('Number of Crimes')\n",
    "plt.legend(labelcolor='red')\n",
    "plt.show()"
   ]
  },
  {
   "cell_type": "markdown",
   "id": "f253aca3",
   "metadata": {},
   "source": [
    "# Spatial Analysis"
   ]
  },
  {
   "cell_type": "code",
   "execution_count": null,
   "id": "fc68efbd",
   "metadata": {},
   "outputs": [],
   "source": [
    "# Create a map centered around an average location\n",
    "crime_map = folium.Map(location=[df['LAT'].mean(), df['LON'].mean()], zoom_start=12)\n",
    "\n",
    "# Add points to the map\n",
    "for _, row in df.iterrows():\n",
    "    folium.CircleMarker([row['LAT'], row['LON']],\n",
    "                        radius=2,\n",
    "                        color='red').add_to(crime_map)"
   ]
  },
  {
   "cell_type": "code",
   "execution_count": null,
   "id": "ecb7ada7",
   "metadata": {},
   "outputs": [],
   "source": [
    "# Display the Crime Hotspot map\n",
    "crime_map"
   ]
  },
  {
   "cell_type": "markdown",
   "id": "c2e30139",
   "metadata": {},
   "source": [
    "# Victim Demographics Analysis"
   ]
  },
  {
   "cell_type": "code",
   "execution_count": null,
   "id": "d064e3fd",
   "metadata": {},
   "outputs": [],
   "source": [
    "# Distribution of Victim Ages\n",
    "\n",
    "sns.histplot(x=df['Vict_Age'].dropna(), bins=25)\n",
    "plt.xlabel('Age')\n",
    "plt.ylabel('Count')\n",
    "plt.title('Distribution of Victim Ages')\n",
    "plt.show()"
   ]
  },
  {
   "cell_type": "code",
   "execution_count": null,
   "id": "d0f7f742",
   "metadata": {},
   "outputs": [],
   "source": [
    "# Group the data on Victim Sex \n",
    "\n",
    "grouped_data = df.groupby(by='Vict_Sex').size().sort_values(ascending=False)\n",
    "grouped_data.index = ['Male', 'Female', 'Others']"
   ]
  },
  {
   "cell_type": "code",
   "execution_count": null,
   "id": "2bf5876f",
   "metadata": {},
   "outputs": [],
   "source": [
    "# Crime Rates by  Victim Gender\n",
    "\n",
    "sns.countplot(x=df['Vict_Sex'], palette='Set1')\n",
    "plt.title('Crime Rates by  Victim')\n",
    "plt.xlabel('Victim Sex')\n",
    "plt.ylabel('Number of Victims')\n",
    "plt.show()"
   ]
  },
  {
   "cell_type": "code",
   "execution_count": null,
   "id": "980ffd61",
   "metadata": {},
   "outputs": [],
   "source": [
    "# Difference in crime rates between Various genders\n",
    "\n",
    "plt.pie(x=grouped_data, autopct='%1.1f%%', labels=grouped_data.index)\n",
    "plt.title('Difference in crime rates between Various genders')\n",
    "plt.show()"
   ]
  },
  {
   "cell_type": "code",
   "execution_count": null,
   "id": "4930aebe",
   "metadata": {},
   "outputs": [],
   "source": [
    "# Location with most crimes reported\n",
    "location_counts = df.groupby(by='Location').size().sort_values(ascending=False).head(1)\n",
    "print(location_counts)"
   ]
  },
  {
   "cell_type": "code",
   "execution_count": null,
   "id": "d0b196c6",
   "metadata": {},
   "outputs": [],
   "source": [
    "# Crimes based on Premise location\n",
    "\n",
    "grouped_data = df.groupby(by='Premis_Desc').size().sort_values(ascending=False)\n",
    "grouped_data = grouped_data[grouped_data>1].head(5)\n",
    "\n",
    "# Common premises descriptions where crimes occur\n",
    "\n",
    "plt.pie(x=grouped_data, autopct='%1.1f%%', labels=grouped_data.index)\n",
    "plt.title('Common premises descriptions where crimes occur')\n",
    "plt.show()"
   ]
  },
  {
   "cell_type": "markdown",
   "id": "0563f0cc",
   "metadata": {},
   "source": [
    "# Status Analysis"
   ]
  },
  {
   "cell_type": "code",
   "execution_count": null,
   "id": "d968b135",
   "metadata": {},
   "outputs": [],
   "source": [
    "# Status of Reported Crimes\n",
    "status_counts = df.groupby(by='Status').size().sort_values(ascending=False)\n",
    "sns.barplot(x=status_counts.index, y=status_counts.values, palette='deep')\n",
    "plt.title('Status of Reported Crimes')\n",
    "plt.xlabel('Status')\n",
    "plt.ylabel('Count')\n",
    "plt.show()"
   ]
  },
  {
   "cell_type": "markdown",
   "id": "52db8df0",
   "metadata": {},
   "source": [
    "# Crime Code Analysis"
   ]
  },
  {
   "cell_type": "code",
   "execution_count": null,
   "id": "5007dd96",
   "metadata": {},
   "outputs": [],
   "source": [
    "# Distribution of Crime Codes\n",
    "sns.kdeplot(x=df['Crm_Cd'].dropna(), fill=True, color='red')\n",
    "plt.xlabel('Crime codes')\n",
    "plt.ylabel('Probability of occurrence')\n",
    "plt.title('Distribution of Crime Codes')\n",
    "plt.show()"
   ]
  },
  {
   "cell_type": "code",
   "execution_count": null,
   "id": "144fee88",
   "metadata": {},
   "outputs": [],
   "source": []
  }
 ],
 "metadata": {
  "kernelspec": {
   "display_name": "Python 3 (ipykernel)",
   "language": "python",
   "name": "python3"
  },
  "language_info": {
   "codemirror_mode": {
    "name": "ipython",
    "version": 3
   },
   "file_extension": ".py",
   "mimetype": "text/x-python",
   "name": "python",
   "nbconvert_exporter": "python",
   "pygments_lexer": "ipython3",
   "version": "3.9.13"
  }
 },
 "nbformat": 4,
 "nbformat_minor": 5
}
